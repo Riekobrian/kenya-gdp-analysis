{
 "cells": [
  {
   "cell_type": "markdown",
   "metadata": {},
   "source": [
    "<center><b>Step-by-Step Guide for Implementing GitHub Actions, Docker and Kubernetes</center></b>\n",
    "\n",
    "Part 1: Setting Up the Project and Local Development\n",
    "\n",
    "1 . **Create a new GitHub repository**\n",
    "\n",
    ">Go to GitHub and create a new repository named \"kenya-gdp-analysis\"\n",
    "\n",
    ">Initialize it with a README.md\n",
    "\n",
    "2. **Clone the repository to your local machine**\n",
    "\n",
    ">git clone https://github.com/your-username/kenya-gdp-analysis.git\n",
    "\n",
    "> cd kenya-gdp-analysis\n",
    "\n",
    "3. **Create the project structure**\n",
    "\n",
    "#bash\n",
    "\n",
    "> mkdir -p data kubernetes tests\n",
    "\n",
    "4. **Add your data file**\n",
    "\n",
    "> Save your GDP2.csv file to the data directory\n",
    "\n",
    "\n"
   ]
  },
  {
   "cell_type": "markdown",
   "metadata": {},
   "source": []
  }
 ],
 "metadata": {
  "language_info": {
   "name": "python"
  }
 },
 "nbformat": 4,
 "nbformat_minor": 2
}
